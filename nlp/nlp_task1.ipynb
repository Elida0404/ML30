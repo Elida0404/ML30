{
  "nbformat": 4,
  "nbformat_minor": 0,
  "metadata": {
    "colab": {
      "name": "nlp_task1.ipynb",
      "provenance": [],
      "collapsed_sections": [],
      "mount_file_id": "1MltOqYjW7AzurQG97yrnUY4AXH61mpxi",
      "authorship_tag": "ABX9TyP7K9dr4qNO4SbmVqFaRrIA"
    },
    "kernelspec": {
      "name": "python3",
      "display_name": "Python 3"
    },
    "language_info": {
      "name": "python"
    }
  },
  "cells": [
    {
      "cell_type": "code",
      "metadata": {
        "id": "7BES62CiFn1l"
      },
      "source": [
        "import pandas as pd"
      ],
      "execution_count": null,
      "outputs": []
    },
    {
      "cell_type": "code",
      "metadata": {
        "id": "4Jpw4k9fjQsn"
      },
      "source": [
        "test_df=pd.read_csv(\"/content/drive/MyDrive/Colab_data/data_nlp/test_a.csv\",sep='\\t')\n",
        "test_df['word'] = test_df['text'].apply(lambda x: len(x.split(' ')))"
      ],
      "execution_count": null,
      "outputs": []
    },
    {
      "cell_type": "code",
      "metadata": {
        "id": "DhQDVMRyj49Z"
      },
      "source": [
        "train_df=pd.read_csv(\"/content/drive/MyDrive/Colab_data/data_nlp/train_set.csv\",sep='\\t')\n",
        "train_df['word'] = train_df['text'].apply(lambda x: len(x.split(' ')))"
      ],
      "execution_count": null,
      "outputs": []
    },
    {
      "cell_type": "code",
      "metadata": {
        "colab": {
          "base_uri": "https://localhost:8080/",
          "height": 204
        },
        "id": "P98n_VtcjXYR",
        "outputId": "ed1afa13-d9ff-447c-c9cc-97332f8dc8c0"
      },
      "source": [
        "test_df.head()"
      ],
      "execution_count": null,
      "outputs": [
        {
          "output_type": "execute_result",
          "data": {
            "text/html": [
              "<div>\n",
              "<style scoped>\n",
              "    .dataframe tbody tr th:only-of-type {\n",
              "        vertical-align: middle;\n",
              "    }\n",
              "\n",
              "    .dataframe tbody tr th {\n",
              "        vertical-align: top;\n",
              "    }\n",
              "\n",
              "    .dataframe thead th {\n",
              "        text-align: right;\n",
              "    }\n",
              "</style>\n",
              "<table border=\"1\" class=\"dataframe\">\n",
              "  <thead>\n",
              "    <tr style=\"text-align: right;\">\n",
              "      <th></th>\n",
              "      <th>text</th>\n",
              "      <th>word</th>\n",
              "    </tr>\n",
              "  </thead>\n",
              "  <tbody>\n",
              "    <tr>\n",
              "      <th>0</th>\n",
              "      <td>5399 3117 1070 4321 4568 2621 5466 3772 4516 2...</td>\n",
              "      <td>607</td>\n",
              "    </tr>\n",
              "    <tr>\n",
              "      <th>1</th>\n",
              "      <td>2491 4109 1757 7539 648 3695 3038 4490 23 7019...</td>\n",
              "      <td>1861</td>\n",
              "    </tr>\n",
              "    <tr>\n",
              "      <th>2</th>\n",
              "      <td>2673 5076 6835 2835 5948 5677 3247 4124 2465 5...</td>\n",
              "      <td>901</td>\n",
              "    </tr>\n",
              "    <tr>\n",
              "      <th>3</th>\n",
              "      <td>4562 4893 2210 4761 3659 1324 2595 5949 4583 2...</td>\n",
              "      <td>3786</td>\n",
              "    </tr>\n",
              "    <tr>\n",
              "      <th>4</th>\n",
              "      <td>4269 7134 2614 1724 4464 1324 3370 3370 2106 2...</td>\n",
              "      <td>316</td>\n",
              "    </tr>\n",
              "  </tbody>\n",
              "</table>\n",
              "</div>"
            ],
            "text/plain": [
              "                                                text  word\n",
              "0  5399 3117 1070 4321 4568 2621 5466 3772 4516 2...   607\n",
              "1  2491 4109 1757 7539 648 3695 3038 4490 23 7019...  1861\n",
              "2  2673 5076 6835 2835 5948 5677 3247 4124 2465 5...   901\n",
              "3  4562 4893 2210 4761 3659 1324 2595 5949 4583 2...  3786\n",
              "4  4269 7134 2614 1724 4464 1324 3370 3370 2106 2...   316"
            ]
          },
          "metadata": {},
          "execution_count": 13
        }
      ]
    },
    {
      "cell_type": "code",
      "metadata": {
        "colab": {
          "base_uri": "https://localhost:8080/",
          "height": 204
        },
        "id": "SywyDCQekQ2r",
        "outputId": "b466c594-ec2e-4ddd-d86a-43357fc4a939"
      },
      "source": [
        "train_df.head()"
      ],
      "execution_count": null,
      "outputs": [
        {
          "output_type": "execute_result",
          "data": {
            "text/html": [
              "<div>\n",
              "<style scoped>\n",
              "    .dataframe tbody tr th:only-of-type {\n",
              "        vertical-align: middle;\n",
              "    }\n",
              "\n",
              "    .dataframe tbody tr th {\n",
              "        vertical-align: top;\n",
              "    }\n",
              "\n",
              "    .dataframe thead th {\n",
              "        text-align: right;\n",
              "    }\n",
              "</style>\n",
              "<table border=\"1\" class=\"dataframe\">\n",
              "  <thead>\n",
              "    <tr style=\"text-align: right;\">\n",
              "      <th></th>\n",
              "      <th>label</th>\n",
              "      <th>text</th>\n",
              "      <th>word</th>\n",
              "    </tr>\n",
              "  </thead>\n",
              "  <tbody>\n",
              "    <tr>\n",
              "      <th>0</th>\n",
              "      <td>2</td>\n",
              "      <td>2967 6758 339 2021 1854 3731 4109 3792 4149 15...</td>\n",
              "      <td>1057</td>\n",
              "    </tr>\n",
              "    <tr>\n",
              "      <th>1</th>\n",
              "      <td>11</td>\n",
              "      <td>4464 486 6352 5619 2465 4802 1452 3137 5778 54...</td>\n",
              "      <td>486</td>\n",
              "    </tr>\n",
              "    <tr>\n",
              "      <th>2</th>\n",
              "      <td>3</td>\n",
              "      <td>7346 4068 5074 3747 5681 6093 1777 2226 7354 6...</td>\n",
              "      <td>764</td>\n",
              "    </tr>\n",
              "    <tr>\n",
              "      <th>3</th>\n",
              "      <td>2</td>\n",
              "      <td>7159 948 4866 2109 5520 2490 211 3956 5520 549...</td>\n",
              "      <td>1570</td>\n",
              "    </tr>\n",
              "    <tr>\n",
              "      <th>4</th>\n",
              "      <td>3</td>\n",
              "      <td>3646 3055 3055 2490 4659 6065 3370 5814 2465 5...</td>\n",
              "      <td>307</td>\n",
              "    </tr>\n",
              "  </tbody>\n",
              "</table>\n",
              "</div>"
            ],
            "text/plain": [
              "   label                                               text  word\n",
              "0      2  2967 6758 339 2021 1854 3731 4109 3792 4149 15...  1057\n",
              "1     11  4464 486 6352 5619 2465 4802 1452 3137 5778 54...   486\n",
              "2      3  7346 4068 5074 3747 5681 6093 1777 2226 7354 6...   764\n",
              "3      2  7159 948 4866 2109 5520 2490 211 3956 5520 549...  1570\n",
              "4      3  3646 3055 3055 2490 4659 6065 3370 5814 2465 5...   307"
            ]
          },
          "metadata": {},
          "execution_count": 14
        }
      ]
    }
  ]
}