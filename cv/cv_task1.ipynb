{
  "nbformat": 4,
  "nbformat_minor": 0,
  "metadata": {
    "colab": {
      "name": "cv_task1",
      "provenance": [],
      "collapsed_sections": [],
      "authorship_tag": "ABX9TyN+ephWxFPeqMantgdzcVs2"
    },
    "kernelspec": {
      "name": "python3",
      "display_name": "Python 3"
    },
    "language_info": {
      "name": "python"
    }
  },
  "cells": [
    {
      "cell_type": "code",
      "metadata": {
        "id": "LE1dSJIUa_Ue"
      },
      "source": [
        "import pandas as pd\n",
        "import numpy as np"
      ],
      "execution_count": null,
      "outputs": []
    },
    {
      "cell_type": "code",
      "metadata": {
        "id": "bK6JnrrGdGO_"
      },
      "source": [
        "train_df=pd.read_csv(\"/content/drive/MyDrive/Colab_data/data_cv/train.csv\")\n",
        "test_img=np.load(\"/content/drive/MyDrive/Colab_data/data_cv/test.npy\")\n",
        "train_img=np.load(\"/content/drive/MyDrive/Colab_data/data_cv/train.npy\")"
      ],
      "execution_count": null,
      "outputs": []
    },
    {
      "cell_type": "code",
      "metadata": {
        "colab": {
          "base_uri": "https://localhost:8080/",
          "height": 224
        },
        "id": "fhLw6ySsdZE1",
        "outputId": "314ed03b-fc14-40b3-e49b-5f6f737b5794"
      },
      "source": [
        "train_df.head()"
      ],
      "execution_count": null,
      "outputs": [
        {
          "output_type": "execute_result",
          "data": {
            "text/html": [
              "<div>\n",
              "<style scoped>\n",
              "    .dataframe tbody tr th:only-of-type {\n",
              "        vertical-align: middle;\n",
              "    }\n",
              "\n",
              "    .dataframe tbody tr th {\n",
              "        vertical-align: top;\n",
              "    }\n",
              "\n",
              "    .dataframe thead th {\n",
              "        text-align: right;\n",
              "    }\n",
              "</style>\n",
              "<table border=\"1\" class=\"dataframe\">\n",
              "  <thead>\n",
              "    <tr style=\"text-align: right;\">\n",
              "      <th></th>\n",
              "      <th>left_eye_center_x</th>\n",
              "      <th>left_eye_center_y</th>\n",
              "      <th>right_eye_center_x</th>\n",
              "      <th>right_eye_center_y</th>\n",
              "      <th>nose_tip_x</th>\n",
              "      <th>nose_tip_y</th>\n",
              "      <th>mouth_center_bottom_lip_x</th>\n",
              "      <th>mouth_center_bottom_lip_y</th>\n",
              "    </tr>\n",
              "  </thead>\n",
              "  <tbody>\n",
              "    <tr>\n",
              "      <th>0</th>\n",
              "      <td>66.342364</td>\n",
              "      <td>38.523613</td>\n",
              "      <td>28.930840</td>\n",
              "      <td>35.577773</td>\n",
              "      <td>49.256845</td>\n",
              "      <td>68.275955</td>\n",
              "      <td>47.783946</td>\n",
              "      <td>85.361582</td>\n",
              "    </tr>\n",
              "    <tr>\n",
              "      <th>1</th>\n",
              "      <td>68.912604</td>\n",
              "      <td>31.409117</td>\n",
              "      <td>29.652226</td>\n",
              "      <td>33.028075</td>\n",
              "      <td>51.913358</td>\n",
              "      <td>48.408453</td>\n",
              "      <td>50.698868</td>\n",
              "      <td>79.574038</td>\n",
              "    </tr>\n",
              "    <tr>\n",
              "      <th>2</th>\n",
              "      <td>68.708994</td>\n",
              "      <td>40.371149</td>\n",
              "      <td>27.130820</td>\n",
              "      <td>40.940680</td>\n",
              "      <td>44.502523</td>\n",
              "      <td>69.988486</td>\n",
              "      <td>45.926427</td>\n",
              "      <td>86.221009</td>\n",
              "    </tr>\n",
              "    <tr>\n",
              "      <th>3</th>\n",
              "      <td>65.334176</td>\n",
              "      <td>35.471878</td>\n",
              "      <td>29.366461</td>\n",
              "      <td>37.767684</td>\n",
              "      <td>50.411373</td>\n",
              "      <td>64.934767</td>\n",
              "      <td>50.028780</td>\n",
              "      <td>74.883241</td>\n",
              "    </tr>\n",
              "    <tr>\n",
              "      <th>4</th>\n",
              "      <td>68.634857</td>\n",
              "      <td>29.999486</td>\n",
              "      <td>31.094571</td>\n",
              "      <td>29.616429</td>\n",
              "      <td>50.247429</td>\n",
              "      <td>51.450857</td>\n",
              "      <td>47.948571</td>\n",
              "      <td>84.394286</td>\n",
              "    </tr>\n",
              "  </tbody>\n",
              "</table>\n",
              "</div>"
            ],
            "text/plain": [
              "   left_eye_center_x  ...  mouth_center_bottom_lip_y\n",
              "0          66.342364  ...                  85.361582\n",
              "1          68.912604  ...                  79.574038\n",
              "2          68.708994  ...                  86.221009\n",
              "3          65.334176  ...                  74.883241\n",
              "4          68.634857  ...                  84.394286\n",
              "\n",
              "[5 rows x 8 columns]"
            ]
          },
          "metadata": {},
          "execution_count": 7
        }
      ]
    }
  ]
}